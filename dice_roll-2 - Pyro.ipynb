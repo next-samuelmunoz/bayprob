{
 "cells": [
  {
   "cell_type": "markdown",
   "metadata": {},
   "source": [
    "# Roll the dice! 2 - In Pyro\n",
    "\n",
    "\n",
    "This is an example of probabilistic programming with dices and bets.\n",
    "It is a reimplementation in Pyro of the last problem presented in the notebook [Roll the dice!](dice_roll.ipynb)\n",
    "\n",
    "The idea here is to get a more readable approach using code abstractions."
   ]
  },
  {
   "cell_type": "code",
   "execution_count": 1,
   "metadata": {},
   "outputs": [],
   "source": [
    "from collections import defaultdict\n",
    "\n",
    "import pyro\n",
    "import torch\n",
    "import seaborn as sns"
   ]
  },
  {
   "cell_type": "code",
   "execution_count": 2,
   "metadata": {},
   "outputs": [],
   "source": [
    "sns.set(rc={'figure.figsize':(11.7,8.27)})  # Figure size"
   ]
  },
  {
   "cell_type": "markdown",
   "metadata": {},
   "source": [
    "## The problem"
   ]
  },
  {
   "cell_type": "markdown",
   "metadata": {},
   "source": [
    "We roll:\n",
    "* 3 6-faced dices\n",
    "* 2 12-faced dices\n",
    "* A 20-faced dice\n",
    "* A coin (head sums 1, tails sums 0), but 60% of times we get tails\n",
    "\n",
    "Which number should we bet?"
   ]
  },
  {
   "cell_type": "code",
   "execution_count": 3,
   "metadata": {},
   "outputs": [],
   "source": [
    "class Dice:\n",
    "    \n",
    "    def __init__(self, faces, probs=None, face_values=None):\n",
    "        self.faces = faces\n",
    "        self.probs = torch.ones(faces) if probs is None else probs\n",
    "        self.face_values = torch.arange(1,1+faces, dtype=torch.float) if face_values is None else face_values\n",
    "        self.dist = pyro.distributions.Multinomial(probs=self.probs)\n",
    "        \n",
    "    def roll(self):\n",
    "        \"\"\"Return the value of the rolled dice.\n",
    "        \"\"\"\n",
    "        return pyro.sample(\"sample\", self.dist).dot(self.face_values)"
   ]
  },
  {
   "cell_type": "code",
   "execution_count": 4,
   "metadata": {},
   "outputs": [],
   "source": [
    "# Define dices\n",
    "\n",
    "d6 = Dice(6)\n",
    "d12 = Dice(12)\n",
    "d20 = Dice(20)\n",
    "d2 = Dice(\n",
    "    faces=2,\n",
    "    probs=torch.tensor([60.,40.]),  # The coin is disbalanced\n",
    "    face_values=torch.tensor([0., 1.])\n",
    ")"
   ]
  },
  {
   "cell_type": "code",
   "execution_count": 5,
   "metadata": {},
   "outputs": [
    {
     "name": "stdout",
     "output_type": "stream",
     "text": [
      "CPU times: user 37 s, sys: 288 ms, total: 37.3 s\n",
      "Wall time: 37.3 s\n"
     ]
    }
   ],
   "source": [
    "%%time\n",
    "n_rolls = 100000\n",
    "counts = defaultdict(lambda : 0) \n",
    "\n",
    "for i in range(n_rolls):\n",
    "    counts[int((  # Throw the 7 elements!\n",
    "        d6.roll()  + d6.roll()  + d6.roll() +\\\n",
    "        d12.roll() + d12.roll() +\\\n",
    "        d20.roll() +\\\n",
    "        d2.roll()\n",
    "    ).item())] += 1"
   ]
  },
  {
   "cell_type": "code",
   "execution_count": 6,
   "metadata": {},
   "outputs": [
    {
     "data": {
      "text/plain": [
       "<matplotlib.axes._subplots.AxesSubplot at 0x7f26b16641d0>"
      ]
     },
     "execution_count": 6,
     "metadata": {},
     "output_type": "execute_result"
    },
    {
     "data": {
      "image/png": "[encoded data removed]",
      "text/plain": [
       "<Figure size 842.4x595.44 with 1 Axes>"
      ]
     },
     "metadata": {},
     "output_type": "display_data"
    }
   ],
   "source": [
    "sns.barplot(\n",
    "    x=list(counts.keys()),\n",
    "    y=list(counts.values())\n",
    ")"
   ]
  },
  {
   "cell_type": "code",
   "execution_count": 7,
   "metadata": {
    "scrolled": false
   },
   "outputs": [
    {
     "name": "stdout",
     "output_type": "stream",
     "text": [
      "Value\t Probability (%)\n",
      " 8\t 0.00001000\n",
      " 9\t 0.00002000\n",
      " 10\t 0.00023000\n",
      " 11\t 0.00027000\n",
      " 12\t 0.00061000\n",
      " 13\t 0.00107000\n",
      " 14\t 0.00159000\n",
      " 15\t 0.00250000\n",
      " 16\t 0.00360000\n",
      " 17\t 0.00532000\n",
      " 18\t 0.00713000\n",
      " 19\t 0.00898000\n",
      " 20\t 0.01069000\n",
      " 21\t 0.01391000\n",
      " 22\t 0.01708000\n",
      " 23\t 0.02040000\n",
      " 24\t 0.02371000\n",
      " 25\t 0.02737000\n",
      " 26\t 0.03095000\n",
      " 27\t 0.03244000\n",
      " 28\t 0.03591000\n",
      " 29\t 0.03913000\n",
      " 30\t 0.04213000\n",
      " 31\t 0.04344000\n",
      " 32\t 0.04559000\n",
      " 33\t 0.04592000\n",
      " 34\t 0.04663000\n",
      " 35\t 0.04459000\n",
      " 36\t 0.04532000\n",
      " 37\t 0.04462000\n",
      " 38\t 0.04247000\n",
      " 39\t 0.04043000\n",
      " 40\t 0.03910000\n",
      " 41\t 0.03498000\n",
      " 42\t 0.03314000\n",
      " 43\t 0.02980000\n",
      " 44\t 0.02603000\n",
      " 45\t 0.02289000\n",
      " 46\t 0.02013000\n",
      " 47\t 0.01604000\n",
      " 48\t 0.01343000\n",
      " 49\t 0.01138000\n",
      " 50\t 0.00817000\n",
      " 51\t 0.00668000\n",
      " 52\t 0.00494000\n",
      " 53\t 0.00346000\n",
      " 54\t 0.00233000\n",
      " 55\t 0.00142000\n",
      " 56\t 0.00103000\n",
      " 57\t 0.00044000\n",
      " 58\t 0.00035000\n",
      " 59\t 0.00013000\n",
      " 60\t 0.00005000\n",
      " 61\t 0.00002000\n"
     ]
    }
   ],
   "source": [
    "print(\"Value\\t Probability (%)\")\n",
    "for value, prob in counts.items():\n",
    "    print(\" {}\\t {:.8f}\".format(value, prob/n_rolls))"
   ]
  },
  {
   "cell_type": "markdown",
   "metadata": {},
   "source": [
    "We can say the results are much similiar, so these approach works as expected.\n",
    "\n",
    "The less possible value is $6$ and the maximum is $63 = 3*6 + 2*12 + 20 + 1$.\n",
    "However, we don't see these value as the number of iterations is not high enough."
   ]
  },
  {
   "cell_type": "markdown",
   "metadata": {},
   "source": [
    "## Differences\n",
    "\n",
    "### On efficiency\n",
    "The execution times are both the same, around 38 seconds. In contrast, this implementation can simulate $10^5$ rolls when the former one could $10^7$ rolls. So the original implementation is 2 orders of magnitude faster.\n",
    "\n",
    "### On memory\n",
    "The original implementation is more greed on memory as it stores all the roll history on memory, however this can be changed. This implementation only store the counts so the memory footprint is negligible.\n",
    "\n",
    "### On readability\n",
    "I prefer these implementation as is easier to read, tweak, and there are not vectorized operations. But, resources are always limited and this approach should not be used for other purspose than tinkering.\n",
    "\n",
    "\n",
    "### Notes\n",
    "1. I am not saying Pyro is slow. This argument has no point since the pyro functions used are only wrappers around the Pytorch ones.\n",
    "1. The comparison is between a fully vectorized approach (speed) VS an object oriented one (readability)."
   ]
  }
 ],
 "metadata": {
  "kernelspec": {
   "display_name": "Python 3",
   "language": "python",
   "name": "python3"
  },
  "language_info": {
   "codemirror_mode": {
    "name": "ipython",
    "version": 3
   },
   "file_extension": ".py",
   "mimetype": "text/x-python",
   "name": "python",
   "nbconvert_exporter": "python",
   "pygments_lexer": "ipython3",
   "version": "3.5.2"
  }
 },
 "nbformat": 4,
 "nbformat_minor": 2
}
