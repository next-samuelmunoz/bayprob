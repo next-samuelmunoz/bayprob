{
 "cells": [
  {
   "cell_type": "code",
   "execution_count": 1,
   "metadata": {},
   "outputs": [],
   "source": [
    "#\n",
    "### CONSTANTS\n",
    "#\n",
    "\n",
    "# Titanic dataset, from kaggle\n",
    "\n",
    "DATA_TRAIN = './dataset/train.csv'\n",
    "DATA_TEST = './dataset/test.csv'"
   ]
  },
  {
   "cell_type": "code",
   "execution_count": 2,
   "metadata": {},
   "outputs": [],
   "source": [
    "#\n",
    "### LIBRARIES\n",
    "#\n",
    "\n",
    "# Classic\n",
    "import numpy as np\n",
    "import matplotlib.pyplot as plt\n",
    "import pandas as pd\n",
    "import seaborn as sns\n",
    "from scipy import stats\n",
    "import sklearn.metrics\n",
    "\n",
    "# PyTorch\n",
    "import torch\n",
    "import torch.nn as nn\n",
    "\n",
    "# Pyro\n",
    "import pyro\n",
    "from pyro import distributions\n",
    "from pyro.infer import SVI, Trace_ELBO, TracePredictive, EmpiricalMarginal\n",
    "from pyro.infer.mcmc import MCMC, NUTS\n",
    "from pyro.optim import Adam\n",
    "\n",
    "# Custom\n",
    "import preprocessing"
   ]
  },
  {
   "cell_type": "code",
   "execution_count": 3,
   "metadata": {},
   "outputs": [],
   "source": [
    "sns.set(rc={'figure.figsize':(11.7,8.27)})  # Figure size"
   ]
  },
  {
   "cell_type": "markdown",
   "metadata": {},
   "source": [
    "# Load Data"
   ]
  },
  {
   "cell_type": "code",
   "execution_count": 4,
   "metadata": {},
   "outputs": [],
   "source": [
    "df_train = pd.read_csv(DATA_TRAIN, index_col='PassengerId')\n",
    "df_test = pd.read_csv(DATA_TEST, index_col='PassengerId')"
   ]
  },
  {
   "cell_type": "code",
   "execution_count": 5,
   "metadata": {},
   "outputs": [
    {
     "data": {
      "text/html": [
       "<div>\n",
       "<style scoped>\n",
       "    .dataframe tbody tr th:only-of-type {\n",
       "        vertical-align: middle;\n",
       "    }\n",
       "\n",
       "    .dataframe tbody tr th {\n",
       "        vertical-align: top;\n",
       "    }\n",
       "\n",
       "    .dataframe thead th {\n",
       "        text-align: right;\n",
       "    }\n",
       "</style>\n",
       "<table border=\"1\" class=\"dataframe\">\n",
       "  <thead>\n",
       "    <tr style=\"text-align: right;\">\n",
       "      <th></th>\n",
       "      <th>Survived</th>\n",
       "      <th>Pclass</th>\n",
       "      <th>Name</th>\n",
       "      <th>Sex</th>\n",
       "      <th>Age</th>\n",
       "      <th>SibSp</th>\n",
       "      <th>Parch</th>\n",
       "      <th>Ticket</th>\n",
       "      <th>Fare</th>\n",
       "      <th>Cabin</th>\n",
       "      <th>Embarked</th>\n",
       "    </tr>\n",
       "    <tr>\n",
       "      <th>PassengerId</th>\n",
       "      <th></th>\n",
       "      <th></th>\n",
       "      <th></th>\n",
       "      <th></th>\n",
       "      <th></th>\n",
       "      <th></th>\n",
       "      <th></th>\n",
       "      <th></th>\n",
       "      <th></th>\n",
       "      <th></th>\n",
       "      <th></th>\n",
       "    </tr>\n",
       "  </thead>\n",
       "  <tbody>\n",
       "    <tr>\n",
       "      <th>1</th>\n",
       "      <td>0</td>\n",
       "      <td>3</td>\n",
       "      <td>Braund, Mr. Owen Harris</td>\n",
       "      <td>male</td>\n",
       "      <td>22.0</td>\n",
       "      <td>1</td>\n",
       "      <td>0</td>\n",
       "      <td>A/5 21171</td>\n",
       "      <td>7.2500</td>\n",
       "      <td>NaN</td>\n",
       "      <td>S</td>\n",
       "    </tr>\n",
       "    <tr>\n",
       "      <th>2</th>\n",
       "      <td>1</td>\n",
       "      <td>1</td>\n",
       "      <td>Cumings, Mrs. John Bradley (Florence Briggs Th...</td>\n",
       "      <td>female</td>\n",
       "      <td>38.0</td>\n",
       "      <td>1</td>\n",
       "      <td>0</td>\n",
       "      <td>PC 17599</td>\n",
       "      <td>71.2833</td>\n",
       "      <td>C85</td>\n",
       "      <td>C</td>\n",
       "    </tr>\n",
       "    <tr>\n",
       "      <th>3</th>\n",
       "      <td>1</td>\n",
       "      <td>3</td>\n",
       "      <td>Heikkinen, Miss. Laina</td>\n",
       "      <td>female</td>\n",
       "      <td>26.0</td>\n",
       "      <td>0</td>\n",
       "      <td>0</td>\n",
       "      <td>STON/O2. 3101282</td>\n",
       "      <td>7.9250</td>\n",
       "      <td>NaN</td>\n",
       "      <td>S</td>\n",
       "    </tr>\n",
       "    <tr>\n",
       "      <th>4</th>\n",
       "      <td>1</td>\n",
       "      <td>1</td>\n",
       "      <td>Futrelle, Mrs. Jacques Heath (Lily May Peel)</td>\n",
       "      <td>female</td>\n",
       "      <td>35.0</td>\n",
       "      <td>1</td>\n",
       "      <td>0</td>\n",
       "      <td>113803</td>\n",
       "      <td>53.1000</td>\n",
       "      <td>C123</td>\n",
       "      <td>S</td>\n",
       "    </tr>\n",
       "    <tr>\n",
       "      <th>5</th>\n",
       "      <td>0</td>\n",
       "      <td>3</td>\n",
       "      <td>Allen, Mr. William Henry</td>\n",
       "      <td>male</td>\n",
       "      <td>35.0</td>\n",
       "      <td>0</td>\n",
       "      <td>0</td>\n",
       "      <td>373450</td>\n",
       "      <td>8.0500</td>\n",
       "      <td>NaN</td>\n",
       "      <td>S</td>\n",
       "    </tr>\n",
       "  </tbody>\n",
       "</table>\n",
       "</div>"
      ],
      "text/plain": [
       "             Survived  Pclass  \\\n",
       "PassengerId                     \n",
       "1                   0       3   \n",
       "2                   1       1   \n",
       "3                   1       3   \n",
       "4                   1       1   \n",
       "5                   0       3   \n",
       "\n",
       "                                                          Name     Sex   Age  \\\n",
       "PassengerId                                                                    \n",
       "1                                      Braund, Mr. Owen Harris    male  22.0   \n",
       "2            Cumings, Mrs. John Bradley (Florence Briggs Th...  female  38.0   \n",
       "3                                       Heikkinen, Miss. Laina  female  26.0   \n",
       "4                 Futrelle, Mrs. Jacques Heath (Lily May Peel)  female  35.0   \n",
       "5                                     Allen, Mr. William Henry    male  35.0   \n",
       "\n",
       "             SibSp  Parch            Ticket     Fare Cabin Embarked  \n",
       "PassengerId                                                          \n",
       "1                1      0         A/5 21171   7.2500   NaN        S  \n",
       "2                1      0          PC 17599  71.2833   C85        C  \n",
       "3                0      0  STON/O2. 3101282   7.9250   NaN        S  \n",
       "4                1      0            113803  53.1000  C123        S  \n",
       "5                0      0            373450   8.0500   NaN        S  "
      ]
     },
     "execution_count": 5,
     "metadata": {},
     "output_type": "execute_result"
    }
   ],
   "source": [
    "df_train.head(5)"
   ]
  },
  {
   "cell_type": "markdown",
   "metadata": {},
   "source": [
    "# Preprocessing\n",
    "\n",
    "Lets create a function that does all the preprocessing, for training and validation datasets"
   ]
  },
  {
   "cell_type": "markdown",
   "metadata": {},
   "source": [
    "## Missing values"
   ]
  },
  {
   "cell_type": "code",
   "execution_count": 6,
   "metadata": {
    "scrolled": true
   },
   "outputs": [
    {
     "data": {
      "text/plain": [
       "Survived     0.000000\n",
       "Pclass       0.000000\n",
       "Name         0.000000\n",
       "Sex          0.000000\n",
       "Age         19.865320\n",
       "SibSp        0.000000\n",
       "Parch        0.000000\n",
       "Ticket       0.000000\n",
       "Fare         0.000000\n",
       "Cabin       77.104377\n",
       "Embarked     0.224467\n",
       "dtype: float64"
      ]
     },
     "execution_count": 6,
     "metadata": {},
     "output_type": "execute_result"
    }
   ],
   "source": [
    "# Missing values\n",
    "df_train.isnull().sum()/len(df_train)*100.0"
   ]
  },
  {
   "cell_type": "markdown",
   "metadata": {},
   "source": [
    "### Age\n",
    "\n",
    "19,8 % of the samples do not have this value, lets see the distribution."
   ]
  },
  {
   "cell_type": "code",
   "execution_count": 7,
   "metadata": {},
   "outputs": [
    {
     "name": "stdout",
     "output_type": "stream",
     "text": [
      "count    714.000000\n",
      "mean      29.699118\n",
      "std       14.526497\n",
      "min        0.420000\n",
      "25%       20.125000\n",
      "50%       28.000000\n",
      "75%       38.000000\n",
      "max       80.000000\n",
      "Name: Age, dtype: float64\n",
      "\n",
      "\n",
      "Mean: 29.69911764705882\n",
      "Median: 28.0\n",
      "Mode: 0    24.0\n",
      "dtype: float64\n"
     ]
    },
    {
     "data": {
      "text/plain": [
       "[]"
      ]
     },
     "execution_count": 7,
     "metadata": {},
     "output_type": "execute_result"
    },
    {
     "data": {
      "image/png": "[encoded data removed]",
      "text/plain": [
       "<Figure size 842.4x595.44 with 1 Axes>"
      ]
     },
     "metadata": {},
     "output_type": "display_data"
    }
   ],
   "source": [
    "print(df_train['Age'].describe())\n",
    "print(\"\\n\\nMean: {}\\nMedian: {}\\nMode: {}\".format(\n",
    "    df_train['Age'].mean(),\n",
    "    df_train['Age'].median(),\n",
    "    df_train['Age'].mode()\n",
    "))\n",
    "df_train['Age'].hist(bins=int(df_train['Age'].max())).plot()"
   ]
  },
  {
   "cell_type": "markdown",
   "metadata": {},
   "source": [
    "### Cabin\n",
    "\n",
    "77% of missing values is too much, discard the column."
   ]
  },
  {
   "cell_type": "markdown",
   "metadata": {},
   "source": [
    "### Embarked\n",
    "0.25% of the values are missing, lets assing them to the most common value."
   ]
  },
  {
   "cell_type": "code",
   "execution_count": 8,
   "metadata": {},
   "outputs": [
    {
     "data": {
      "text/plain": [
       "S    644\n",
       "C    168\n",
       "Q     77\n",
       "Name: Embarked, dtype: int64"
      ]
     },
     "execution_count": 8,
     "metadata": {},
     "output_type": "execute_result"
    }
   ],
   "source": [
    "df_train['Embarked'].value_counts()"
   ]
  },
  {
   "cell_type": "markdown",
   "metadata": {},
   "source": [
    "## Collinearities"
   ]
  },
  {
   "cell_type": "markdown",
   "metadata": {},
   "source": [
    "### Parch+SibSp = Alone\n",
    "This variable mixes 'SibSp' (siblings and spouses) and 'Parch' (parents and children) to determine wether an individual was travelling alone."
   ]
  },
  {
   "cell_type": "code",
   "execution_count": 9,
   "metadata": {},
   "outputs": [
    {
     "data": {
      "text/plain": [
       "<matplotlib.axes._subplots.AxesSubplot at 0x7fb4f8d58390>"
      ]
     },
     "execution_count": 9,
     "metadata": {},
     "output_type": "execute_result"
    },
    {
     "data": {
      "image/png": "[encoded data removed]",
      "text/plain": [
       "<Figure size 842.4x595.44 with 1 Axes>"
      ]
     },
     "metadata": {},
     "output_type": "display_data"
    }
   ],
   "source": [
    "sns.countplot((df_train['Parch'] + df_train['SibSp'])<1)"
   ]
  },
  {
   "cell_type": "markdown",
   "metadata": {},
   "source": [
    "### Pclass & Embarked\n",
    "\n",
    "Perform *dummy encoding*, similiar *to one hot encoding* but with $n-1$ columns to avoid collinearities.\n"
   ]
  },
  {
   "cell_type": "markdown",
   "metadata": {},
   "source": [
    "## Other\n",
    "### Sex -> Male\n",
    "Transform the sex variable to binary, 1 if male, else 0\n",
    "\n",
    "### Unneeded columns\n",
    "Discard the following columns:\n",
    "* Name: some people do feature engineering to extract titles and do, not here.\n",
    "* Ticket: same"
   ]
  },
  {
   "cell_type": "markdown",
   "metadata": {},
   "source": [
    "## Proper transformation"
   ]
  },
  {
   "cell_type": "code",
   "execution_count": 10,
   "metadata": {},
   "outputs": [],
   "source": [
    "prep = preprocessing.Preprocessing()\n",
    "df_train_prep = prep.preprocess(df_train, train=True)"
   ]
  },
  {
   "cell_type": "markdown",
   "metadata": {},
   "source": [
    "## Checks"
   ]
  },
  {
   "cell_type": "code",
   "execution_count": 11,
   "metadata": {},
   "outputs": [
    {
     "data": {
      "text/html": [
       "<div>\n",
       "<style scoped>\n",
       "    .dataframe tbody tr th:only-of-type {\n",
       "        vertical-align: middle;\n",
       "    }\n",
       "\n",
       "    .dataframe tbody tr th {\n",
       "        vertical-align: top;\n",
       "    }\n",
       "\n",
       "    .dataframe thead th {\n",
       "        text-align: right;\n",
       "    }\n",
       "</style>\n",
       "<table border=\"1\" class=\"dataframe\">\n",
       "  <thead>\n",
       "    <tr style=\"text-align: right;\">\n",
       "      <th></th>\n",
       "      <th>Survived</th>\n",
       "      <th>Age</th>\n",
       "      <th>Fare</th>\n",
       "      <th>Alone</th>\n",
       "      <th>Male</th>\n",
       "      <th>Pclass_2</th>\n",
       "      <th>Pclass_3</th>\n",
       "      <th>Embarked_Q</th>\n",
       "      <th>Embarked_S</th>\n",
       "    </tr>\n",
       "    <tr>\n",
       "      <th>PassengerId</th>\n",
       "      <th></th>\n",
       "      <th></th>\n",
       "      <th></th>\n",
       "      <th></th>\n",
       "      <th></th>\n",
       "      <th></th>\n",
       "      <th></th>\n",
       "      <th></th>\n",
       "      <th></th>\n",
       "    </tr>\n",
       "  </thead>\n",
       "  <tbody>\n",
       "    <tr>\n",
       "      <th>1</th>\n",
       "      <td>0</td>\n",
       "      <td>22.0</td>\n",
       "      <td>7.2500</td>\n",
       "      <td>0</td>\n",
       "      <td>1</td>\n",
       "      <td>0</td>\n",
       "      <td>1</td>\n",
       "      <td>0</td>\n",
       "      <td>1</td>\n",
       "    </tr>\n",
       "    <tr>\n",
       "      <th>2</th>\n",
       "      <td>1</td>\n",
       "      <td>38.0</td>\n",
       "      <td>71.2833</td>\n",
       "      <td>0</td>\n",
       "      <td>0</td>\n",
       "      <td>0</td>\n",
       "      <td>0</td>\n",
       "      <td>0</td>\n",
       "      <td>0</td>\n",
       "    </tr>\n",
       "    <tr>\n",
       "      <th>3</th>\n",
       "      <td>1</td>\n",
       "      <td>26.0</td>\n",
       "      <td>7.9250</td>\n",
       "      <td>1</td>\n",
       "      <td>0</td>\n",
       "      <td>0</td>\n",
       "      <td>1</td>\n",
       "      <td>0</td>\n",
       "      <td>1</td>\n",
       "    </tr>\n",
       "    <tr>\n",
       "      <th>4</th>\n",
       "      <td>1</td>\n",
       "      <td>35.0</td>\n",
       "      <td>53.1000</td>\n",
       "      <td>0</td>\n",
       "      <td>0</td>\n",
       "      <td>0</td>\n",
       "      <td>0</td>\n",
       "      <td>0</td>\n",
       "      <td>1</td>\n",
       "    </tr>\n",
       "    <tr>\n",
       "      <th>5</th>\n",
       "      <td>0</td>\n",
       "      <td>35.0</td>\n",
       "      <td>8.0500</td>\n",
       "      <td>1</td>\n",
       "      <td>1</td>\n",
       "      <td>0</td>\n",
       "      <td>1</td>\n",
       "      <td>0</td>\n",
       "      <td>1</td>\n",
       "    </tr>\n",
       "  </tbody>\n",
       "</table>\n",
       "</div>"
      ],
      "text/plain": [
       "             Survived   Age     Fare  Alone  Male  Pclass_2  Pclass_3  \\\n",
       "PassengerId                                                             \n",
       "1                   0  22.0   7.2500      0     1         0         1   \n",
       "2                   1  38.0  71.2833      0     0         0         0   \n",
       "3                   1  26.0   7.9250      1     0         0         1   \n",
       "4                   1  35.0  53.1000      0     0         0         0   \n",
       "5                   0  35.0   8.0500      1     1         0         1   \n",
       "\n",
       "             Embarked_Q  Embarked_S  \n",
       "PassengerId                          \n",
       "1                     0           1  \n",
       "2                     0           0  \n",
       "3                     0           1  \n",
       "4                     0           1  \n",
       "5                     0           1  "
      ]
     },
     "execution_count": 11,
     "metadata": {},
     "output_type": "execute_result"
    }
   ],
   "source": [
    "df_train_prep.head()"
   ]
  },
  {
   "cell_type": "markdown",
   "metadata": {},
   "source": [
    "### Not nulls"
   ]
  },
  {
   "cell_type": "code",
   "execution_count": 12,
   "metadata": {},
   "outputs": [
    {
     "data": {
      "text/plain": [
       "0"
      ]
     },
     "execution_count": 12,
     "metadata": {},
     "output_type": "execute_result"
    }
   ],
   "source": [
    "df_train_prep.isnull().sum().sum()"
   ]
  },
  {
   "cell_type": "markdown",
   "metadata": {},
   "source": [
    "### Low label correlations"
   ]
  },
  {
   "cell_type": "code",
   "execution_count": 13,
   "metadata": {},
   "outputs": [
    {
     "data": {
      "text/plain": [
       "<matplotlib.axes._subplots.AxesSubplot at 0x7fb4f6d32080>"
      ]
     },
     "execution_count": 13,
     "metadata": {},
     "output_type": "execute_result"
    },
    {
     "data": {
      "image/png": "[encoded data removed]",
      "text/plain": [
       "<Figure size 842.4x595.44 with 2 Axes>"
      ]
     },
     "metadata": {},
     "output_type": "display_data"
    }
   ],
   "source": [
    "corr =  df_train_prep.corr()\n",
    "\n",
    "# Generate a mask for the upper triangle\n",
    "mask = np.zeros_like(corr, dtype=np.bool)\n",
    "mask[np.triu_indices_from(mask)] = True\n",
    "\n",
    "sns.heatmap(\n",
    "    corr,\n",
    "    vmin=-1, \n",
    "    vmax=1,\n",
    "    center=0, \n",
    "    annot=True,\n",
    "    mask=mask\n",
    ")"
   ]
  },
  {
   "cell_type": "markdown",
   "metadata": {},
   "source": [
    "**NOTE 1:** compare the correlation matrix with `dummy encodings` against  the one with `one hot encodings`.\n",
    "\n",
    "Pay attention to:\n",
    "* Pclass_1 VS Pclass_3\n",
    "* Embarked_C VS Embarked_S\n",
    "\n",
    "![OHE correlations](img/corr_one_hot_encoding.png)\n",
    "\n",
    "In fact we only need to know 2 columns in both cases to know the third.\n",
    "\n",
    "**NOTE 2:** as 'Survived' is our target label, is good to have strong correlations."
   ]
  },
  {
   "cell_type": "markdown",
   "metadata": {},
   "source": [
    "# Prepare data\n",
    "Get the train and test data ready to play."
   ]
  },
  {
   "cell_type": "code",
   "execution_count": 14,
   "metadata": {},
   "outputs": [],
   "source": [
    "# Training data (as matrix)\n",
    "train_x = df_train_prep.drop(columns=['Survived'])\n",
    "train_y = df_train_prep['Survived']"
   ]
  },
  {
   "cell_type": "markdown",
   "metadata": {},
   "source": [
    "# Baseline (most common class)"
   ]
  },
  {
   "cell_type": "code",
   "execution_count": 15,
   "metadata": {},
   "outputs": [
    {
     "data": {
      "text/plain": [
       "0    0.616162\n",
       "1    0.383838\n",
       "Name: Survived, dtype: float64"
      ]
     },
     "execution_count": 15,
     "metadata": {},
     "output_type": "execute_result"
    }
   ],
   "source": [
    "df_train['Survived'].value_counts()/len(df_train)"
   ]
  },
  {
   "cell_type": "markdown",
   "metadata": {},
   "source": [
    "If the predictor states the most common class, we will get a $61.6\\%$ of accuracy."
   ]
  },
  {
   "cell_type": "markdown",
   "metadata": {},
   "source": [
    "# Logistic regression"
   ]
  },
  {
   "cell_type": "code",
   "execution_count": 16,
   "metadata": {},
   "outputs": [],
   "source": [
    "# Logistic Regression Model\n",
    "\n",
    "class RegressionModel(nn.Module):\n",
    "    def __init__(self, p):\n",
    "        # p = number of features\n",
    "        super(RegressionModel, self).__init__()\n",
    "        self.linear = nn.Linear(in_features=p, out_features=1, bias=True)\n",
    "\n",
    "    def forward(self, x):\n",
    "        return torch.sigmoid(self.linear(x))"
   ]
  },
  {
   "cell_type": "code",
   "execution_count": 17,
   "metadata": {},
   "outputs": [],
   "source": [
    "# Regression parameters\n",
    "regression_model = RegressionModel(train_x.shape[1])\n",
    "loss_fn = torch.nn.MSELoss(reduction='sum')\n",
    "optim = torch.optim.Adam(regression_model.parameters(), lr=0.005)\n",
    "num_iterations = 3000"
   ]
  },
  {
   "cell_type": "code",
   "execution_count": 18,
   "metadata": {
    "scrolled": true
   },
   "outputs": [],
   "source": [
    "# Train\n",
    "\n",
    "x_data = torch.tensor(train_x.values, dtype=torch.float)\n",
    "y_data = torch.tensor(train_y.values, dtype=torch.float)\n",
    "\n",
    "def train():\n",
    "    for j in range(num_iterations):\n",
    "        y_pred = regression_model(x_data).squeeze(-1)\n",
    "        loss = loss_fn(y_pred, y_data)\n",
    "        optim.zero_grad()  # initialize gradients to zero\n",
    "        loss.backward()\n",
    "        optim.step()\n",
    "        if (j + 1) % 200 == 0:\n",
    "            print(\"[iteration %04d] loss: %.4f\" % (j + 1, loss.item()))\n",
    "    return y_pred"
   ]
  },
  {
   "cell_type": "code",
   "execution_count": 19,
   "metadata": {},
   "outputs": [
    {
     "name": "stdout",
     "output_type": "stream",
     "text": [
      "[iteration 0200] loss: 154.0489\n",
      "[iteration 0400] loss: 142.9861\n",
      "[iteration 0600] loss: 137.6745\n",
      "[iteration 0800] loss: 134.1325\n",
      "[iteration 1000] loss: 131.4569\n",
      "[iteration 1200] loss: 129.4251\n",
      "[iteration 1400] loss: 127.9492\n",
      "[iteration 1600] loss: 126.9227\n",
      "[iteration 1800] loss: 126.2276\n",
      "[iteration 2000] loss: 125.7633\n",
      "[iteration 2200] loss: 125.4554\n",
      "[iteration 2400] loss: 125.2524\n",
      "[iteration 2600] loss: 125.1196\n",
      "[iteration 2800] loss: 125.0334\n",
      "[iteration 3000] loss: 124.9781\n",
      "CPU times: user 2.72 s, sys: 32 ms, total: 2.75 s\n",
      "Wall time: 946 ms\n"
     ]
    }
   ],
   "source": [
    "%%time \n",
    "y_pred = train()"
   ]
  },
  {
   "cell_type": "markdown",
   "metadata": {},
   "source": [
    "### Residual distribution\n",
    "\n",
    "Should [residuals](https://en.wikipedia.org/wiki/Errors_and_residuals) should be normally distributed?. "
   ]
  },
  {
   "cell_type": "code",
   "execution_count": 20,
   "metadata": {
    "scrolled": false
   },
   "outputs": [
    {
     "name": "stdout",
     "output_type": "stream",
     "text": [
      "Avg :0.02651827223598957\n",
      "Var: 0.13956405222415924\n"
     ]
    },
    {
     "data": {
      "text/plain": [
       "<matplotlib.axes._subplots.AxesSubplot at 0x7fb4f6c454a8>"
      ]
     },
     "execution_count": 20,
     "metadata": {},
     "output_type": "execute_result"
    },
    {
     "data": {
      "image/png": "[encoded data removed]",
      "text/plain": [
       "<Figure size 842.4x595.44 with 1 Axes>"
      ]
     },
     "metadata": {},
     "output_type": "display_data"
    }
   ],
   "source": [
    "from scipy.stats import norm\n",
    "residuals  = (y_data-y_pred).data.numpy()\n",
    "print(\"Avg :{}\\nVar: {}\".format(residuals.mean(), residuals.var()))\n",
    "sns.distplot(residuals, fit=stats.norm, kde=False, bins=50)"
   ]
  },
  {
   "cell_type": "markdown",
   "metadata": {},
   "source": [
    "Lets perform a [Shapiro–Wilk test](https://en.wikipedia.org/wiki/Shapiro%E2%80%93Wilk_test) to test for normality."
   ]
  },
  {
   "cell_type": "code",
   "execution_count": 21,
   "metadata": {},
   "outputs": [
    {
     "name": "stdout",
     "output_type": "stream",
     "text": [
      "2.453091580875781e-18\n",
      "Failed\n"
     ]
    }
   ],
   "source": [
    "_, pval = stats.shapiro(residuals)\n",
    "print(pval)\n",
    "if pval>0.05:\n",
    "    print(\"OK\")\n",
    "else:\n",
    "    print(\"Failed\")"
   ]
  },
  {
   "cell_type": "code",
   "execution_count": 22,
   "metadata": {
    "scrolled": false
   },
   "outputs": [
    {
     "data": {
      "text/plain": [
       "NormaltestResult(statistic=59.584175360746634, pvalue=1.1520218493566655e-13)"
      ]
     },
     "execution_count": 22,
     "metadata": {},
     "output_type": "execute_result"
    }
   ],
   "source": [
    "# Just in case\n",
    "stats.normaltest(residuals)"
   ]
  },
  {
   "cell_type": "markdown",
   "metadata": {},
   "source": [
    "In a logistic regression, residuals are not normally distributed. See Bibliography [4.C](#Bibliography)"
   ]
  },
  {
   "cell_type": "markdown",
   "metadata": {},
   "source": [
    "## Metrics"
   ]
  },
  {
   "cell_type": "code",
   "execution_count": 23,
   "metadata": {},
   "outputs": [],
   "source": [
    "def print_metrics(true_labels, predictions):\n",
    "    print(\"Accuracy: {}\".format(\n",
    "        sklearn.metrics.accuracy_score(true_labels,predictions)\n",
    "    ))\n",
    "    sns.heatmap(\n",
    "        sklearn.metrics.confusion_matrix(true_labels,predictions)/len(true_labels),\n",
    "        vmin=0.0,\n",
    "        center=0.5,\n",
    "        vmax=1.0,\n",
    "        annot=True\n",
    "    )\n",
    "    plt.title(\"Confusion matrix (% data)\")\n",
    "    plt.ylabel(\"True label\")\n",
    "    plt.xlabel(\"Predicted label\")\n",
    "    plt.show()"
   ]
  },
  {
   "cell_type": "code",
   "execution_count": 24,
   "metadata": {},
   "outputs": [],
   "source": [
    "def  print_coeff_importance(coeffs, names):\n",
    "    \"\"\"Print the relative importance between regression coefficients\n",
    "    \"\"\"\n",
    "    c_max = coeffs.max()\n",
    "    c_min = coeffs.min()\n",
    "    if c_max==c_min:\n",
    "        scale = c_max\n",
    "    else:\n",
    "        scale = coeffs.max()-coeffs.min()        \n",
    "    rel_coeffs =  list(zip( (coeffs-coeffs.mean())/scale, names))\n",
    "    rel_coeffs.sort(reverse=True)\n",
    "    for c,n in rel_coeffs:\n",
    "        print(\"{:<15s}{}\".format(n,c))"
   ]
  },
  {
   "cell_type": "code",
   "execution_count": 25,
   "metadata": {
    "scrolled": false
   },
   "outputs": [
    {
     "name": "stdout",
     "output_type": "stream",
     "text": [
      "Accuracy: 0.8047138047138047\n"
     ]
    },
    {
     "data": {
      "image/png": "[encoded data removed]",
      "text/plain": [
       "<Figure size 842.4x595.44 with 2 Axes>"
      ]
     },
     "metadata": {},
     "output_type": "display_data"
    }
   ],
   "source": [
    "print_metrics(\n",
    "    true_labels=y_data.data.numpy(),\n",
    "    predictions=np.where(y_pred.data.numpy()>=0.5,1,0)\n",
    ")"
   ]
  },
  {
   "cell_type": "code",
   "execution_count": 26,
   "metadata": {},
   "outputs": [
    {
     "name": "stdout",
     "output_type": "stream",
     "text": [
      "Embarked_Q     0.3934716284275055\n",
      "Fare           0.24658718705177307\n",
      "Alone          0.245184525847435\n",
      "Age            0.23610979318618774\n",
      "Embarked_S     0.09920477867126465\n",
      "Pclass_2       -0.02755960449576378\n",
      "Pclass_3       -0.586469829082489\n",
      "Male           -0.6065284013748169\n"
     ]
    }
   ],
   "source": [
    "print_coeff_importance(\n",
    "    regression_model.linear.weight.data.numpy()[0],\n",
    "    train_x.columns\n",
    ")"
   ]
  },
  {
   "cell_type": "markdown",
   "metadata": {},
   "source": [
    "# Bayesian regression (SVI)"
   ]
  },
  {
   "cell_type": "code",
   "execution_count": 27,
   "metadata": {},
   "outputs": [],
   "source": [
    "# Model\n",
    "\n",
    "svi_reg_model = RegressionModel(train_x.shape[1])\n",
    "\n",
    "def svi_model(x_data, y_data):\n",
    "    # weight and bias priors\n",
    "    p = x_data.shape[1]    \n",
    "    w_prior = distributions.Normal(torch.zeros(1, p), torch.ones(1, p)).to_event(1)\n",
    "    b_prior = distributions.Normal(torch.tensor([[8.]]), torch.tensor([[1000.]])).to_event(1)  # Magic\n",
    "    priors = {'linear.weight': w_prior, 'linear.bias': b_prior}\n",
    "    # lift module parameters to random variables sampled from the priors\n",
    "    lifted_module = pyro.random_module(\"module\", svi_reg_model, priors)\n",
    "    # sample a nn (which also samples w and b)\n",
    "    lifted_reg_model = lifted_module()\n",
    "    scale = pyro.sample(\"sigma\", distributions.Uniform(0., 10.))\n",
    "    with pyro.plate(\"map\", len(x_data)):\n",
    "        # run the nn forward on data\n",
    "        prediction_mean = lifted_reg_model(x_data).squeeze(-1)\n",
    "        # condition on the observed data\n",
    "        pyro.sample(\n",
    "            \"obs\",\n",
    "            distributions.Normal(prediction_mean, scale),\n",
    "            obs=y_data\n",
    "        )\n",
    "        return prediction_mean"
   ]
  },
  {
   "cell_type": "code",
   "execution_count": 28,
   "metadata": {},
   "outputs": [],
   "source": [
    "# Guide\n",
    "\n",
    "from pyro.contrib.autoguide import AutoDiagonalNormal\n",
    "svi_guide = AutoDiagonalNormal(svi_model)"
   ]
  },
  {
   "cell_type": "code",
   "execution_count": 29,
   "metadata": {},
   "outputs": [],
   "source": [
    "# Stochastic Variational Inference\n",
    "\n",
    "optim = Adam({\"lr\": 0.03})\n",
    "svi = SVI(svi_model, svi_guide, optim, loss=Trace_ELBO(), num_samples=1000)\n",
    "num_iterations = 4000\n",
    "\n",
    "def svi_train():\n",
    "    pyro.clear_param_store()\n",
    "    for j in range(num_iterations):\n",
    "        # calculate the loss and take a gradient step\n",
    "        loss = svi.step(x_data, y_data)\n",
    "        if j % 100 == 0:\n",
    "            print(\"[iteration %04d] loss: %.4f\" % (j + 1, loss / len(x_data)))\n",
    "\n"
   ]
  },
  {
   "cell_type": "code",
   "execution_count": 30,
   "metadata": {},
   "outputs": [
    {
     "name": "stdout",
     "output_type": "stream",
     "text": [
      "[iteration 0001] loss: 2.7022\n",
      "[iteration 0101] loss: 0.9493\n",
      "[iteration 0201] loss: 1.2043\n",
      "[iteration 0301] loss: 0.8651\n",
      "[iteration 0401] loss: 0.8621\n",
      "[iteration 0501] loss: 0.8504\n",
      "[iteration 0601] loss: 0.8359\n",
      "[iteration 0701] loss: 0.7670\n",
      "[iteration 0801] loss: 0.6198\n",
      "[iteration 0901] loss: 0.6083\n",
      "[iteration 1001] loss: 0.6540\n",
      "[iteration 1101] loss: 0.5386\n",
      "[iteration 1201] loss: 0.5320\n",
      "[iteration 1301] loss: 0.5035\n",
      "[iteration 1401] loss: 0.5190\n",
      "[iteration 1501] loss: 0.4978\n",
      "[iteration 1601] loss: 0.4917\n",
      "[iteration 1701] loss: 0.5150\n",
      "[iteration 1801] loss: 0.5019\n",
      "[iteration 1901] loss: 0.5007\n",
      "[iteration 2001] loss: 0.5337\n",
      "[iteration 2101] loss: 0.4930\n",
      "[iteration 2201] loss: 0.4883\n",
      "[iteration 2301] loss: 0.5214\n",
      "[iteration 2401] loss: 0.5445\n",
      "[iteration 2501] loss: 0.4993\n",
      "[iteration 2601] loss: 0.5033\n",
      "[iteration 2701] loss: 0.5183\n",
      "[iteration 2801] loss: 0.5005\n",
      "[iteration 2901] loss: 0.5082\n",
      "[iteration 3001] loss: 0.4993\n",
      "[iteration 3101] loss: 0.4977\n",
      "[iteration 3201] loss: 0.4937\n",
      "[iteration 3301] loss: 0.5113\n",
      "[iteration 3401] loss: 0.4994\n",
      "[iteration 3501] loss: 0.4906\n",
      "[iteration 3601] loss: 0.4936\n",
      "[iteration 3701] loss: 0.4966\n",
      "[iteration 3801] loss: 0.5224\n",
      "[iteration 3901] loss: 0.4976\n",
      "CPU times: user 49.9 s, sys: 196 ms, total: 50.1 s\n",
      "Wall time: 17 s\n"
     ]
    }
   ],
   "source": [
    "%%time\n",
    "\n",
    "svi_train()"
   ]
  },
  {
   "cell_type": "code",
   "execution_count": 31,
   "metadata": {},
   "outputs": [],
   "source": [
    "def svi_wrapped_model(x_data, y_data):\n",
    "    pyro.sample(\"prediction\", distributions.Delta( svi_model(x_data, y_data)) )\n",
    "\n",
    "svi_posterior = svi.run(x_data, y_data)"
   ]
  },
  {
   "cell_type": "code",
   "execution_count": 32,
   "metadata": {},
   "outputs": [],
   "source": [
    "# posterior predictive distribution we can get samples from\n",
    "svi_trace_pred = TracePredictive(\n",
    "    svi_wrapped_model,\n",
    "    svi_posterior,\n",
    "    num_samples=1000\n",
    ")"
   ]
  },
  {
   "cell_type": "code",
   "execution_count": 33,
   "metadata": {},
   "outputs": [],
   "source": [
    "svi_post_pred = svi_trace_pred.run(x_data, None)"
   ]
  },
  {
   "cell_type": "code",
   "execution_count": 34,
   "metadata": {},
   "outputs": [],
   "source": [
    "svi_get_marginal = lambda traces, sites:EmpiricalMarginal(traces, sites)._get_samples_and_weights()[0].detach().cpu().numpy()\n",
    "\n",
    "def svi_summary(traces, sites):\n",
    "    marginal = svi_get_marginal(traces, sites)\n",
    "    site_stats = {}\n",
    "    for i in range(marginal.shape[1]):\n",
    "        site_name = sites[i]\n",
    "        marginal_site = pd.DataFrame(marginal[:, i]).transpose()\n",
    "        site_stats[site_name] = marginal_site.apply(\n",
    "            lambda x: pd.Series.describe(x, percentiles=[.05, 0.25, 0.5, 0.75, 0.95]),\n",
    "            axis=1\n",
    "        ) [[\"mean\", \"std\", \"5%\", \"25%\", \"50%\", \"75%\", \"95%\"]]\n",
    "    return site_stats"
   ]
  },
  {
   "cell_type": "code",
   "execution_count": 35,
   "metadata": {},
   "outputs": [],
   "source": [
    "svi_post_summary = svi_summary(svi_post_pred, sites=['prediction', 'obs'])\n",
    "svi_mu = svi_post_summary[\"prediction\"]\n",
    "svi_y = svi_post_summary[\"obs\"]\n",
    "svi_predictions = pd.DataFrame({\n",
    "    \"mu_mean\": svi_mu[\"mean\"],\n",
    "    \"mu_perc_5\": svi_mu[\"5%\"],\n",
    "    \"mu_perc_95\": svi_mu[\"95%\"],\n",
    "    \"y_mean\": svi_y[\"mean\"],\n",
    "    \"y_perc_5\": svi_y[\"5%\"],\n",
    "    \"y_perc_95\": svi_y[\"95%\"],\n",
    "    \"true_y\": y_data,\n",
    "})"
   ]
  },
  {
   "cell_type": "code",
   "execution_count": 36,
   "metadata": {},
   "outputs": [
    {
     "data": {
      "text/html": [
       "<div>\n",
       "<style scoped>\n",
       "    .dataframe tbody tr th:only-of-type {\n",
       "        vertical-align: middle;\n",
       "    }\n",
       "\n",
       "    .dataframe tbody tr th {\n",
       "        vertical-align: top;\n",
       "    }\n",
       "\n",
       "    .dataframe thead th {\n",
       "        text-align: right;\n",
       "    }\n",
       "</style>\n",
       "<table border=\"1\" class=\"dataframe\">\n",
       "  <thead>\n",
       "    <tr style=\"text-align: right;\">\n",
       "      <th></th>\n",
       "      <th>mu_mean</th>\n",
       "      <th>mu_perc_5</th>\n",
       "      <th>mu_perc_95</th>\n",
       "      <th>true_y</th>\n",
       "      <th>y_mean</th>\n",
       "      <th>y_perc_5</th>\n",
       "      <th>y_perc_95</th>\n",
       "    </tr>\n",
       "  </thead>\n",
       "  <tbody>\n",
       "    <tr>\n",
       "      <th>0</th>\n",
       "      <td>0.052268</td>\n",
       "      <td>0.034454</td>\n",
       "      <td>0.075074</td>\n",
       "      <td>0.0</td>\n",
       "      <td>0.067887</td>\n",
       "      <td>-0.534834</td>\n",
       "      <td>0.665348</td>\n",
       "    </tr>\n",
       "    <tr>\n",
       "      <th>1</th>\n",
       "      <td>0.917873</td>\n",
       "      <td>0.895595</td>\n",
       "      <td>0.937833</td>\n",
       "      <td>1.0</td>\n",
       "      <td>0.926537</td>\n",
       "      <td>0.308756</td>\n",
       "      <td>1.555276</td>\n",
       "    </tr>\n",
       "    <tr>\n",
       "      <th>2</th>\n",
       "      <td>0.455524</td>\n",
       "      <td>0.346132</td>\n",
       "      <td>0.566067</td>\n",
       "      <td>1.0</td>\n",
       "      <td>0.444540</td>\n",
       "      <td>-0.147287</td>\n",
       "      <td>1.146659</td>\n",
       "    </tr>\n",
       "    <tr>\n",
       "      <th>3</th>\n",
       "      <td>0.882681</td>\n",
       "      <td>0.842993</td>\n",
       "      <td>0.916983</td>\n",
       "      <td>1.0</td>\n",
       "      <td>0.869988</td>\n",
       "      <td>0.246331</td>\n",
       "      <td>1.504278</td>\n",
       "    </tr>\n",
       "    <tr>\n",
       "      <th>4</th>\n",
       "      <td>0.034011</td>\n",
       "      <td>0.020580</td>\n",
       "      <td>0.053415</td>\n",
       "      <td>0.0</td>\n",
       "      <td>0.022846</td>\n",
       "      <td>-0.560122</td>\n",
       "      <td>0.612636</td>\n",
       "    </tr>\n",
       "  </tbody>\n",
       "</table>\n",
       "</div>"
      ],
      "text/plain": [
       "    mu_mean  mu_perc_5  mu_perc_95  true_y    y_mean  y_perc_5  y_perc_95\n",
       "0  0.052268   0.034454    0.075074     0.0  0.067887 -0.534834   0.665348\n",
       "1  0.917873   0.895595    0.937833     1.0  0.926537  0.308756   1.555276\n",
       "2  0.455524   0.346132    0.566067     1.0  0.444540 -0.147287   1.146659\n",
       "3  0.882681   0.842993    0.916983     1.0  0.869988  0.246331   1.504278\n",
       "4  0.034011   0.020580    0.053415     0.0  0.022846 -0.560122   0.612636"
      ]
     },
     "execution_count": 36,
     "metadata": {},
     "output_type": "execute_result"
    }
   ],
   "source": [
    "svi_predictions.head()"
   ]
  },
  {
   "cell_type": "markdown",
   "metadata": {},
   "source": [
    "## Metrics"
   ]
  },
  {
   "cell_type": "code",
   "execution_count": 37,
   "metadata": {},
   "outputs": [
    {
     "name": "stdout",
     "output_type": "stream",
     "text": [
      "Accuracy: 0.8103254769921436\n"
     ]
    },
    {
     "data": {
      "image/png": "[encoded data removed]",
      "text/plain": [
       "<Figure size 842.4x595.44 with 2 Axes>"
      ]
     },
     "metadata": {},
     "output_type": "display_data"
    }
   ],
   "source": [
    "print_metrics(\n",
    "    true_labels=svi_predictions['true_y'],\n",
    "    predictions=np.where(svi_predictions['y_mean']>=0.5,1,0)\n",
    ")"
   ]
  },
  {
   "cell_type": "code",
   "execution_count": 38,
   "metadata": {},
   "outputs": [
    {
     "data": {
      "text/plain": [
       "[('Age',\n",
       "  (tensor(-0.0343, grad_fn=<SelectBackward>),\n",
       "   tensor(0.0025, grad_fn=<SelectBackward>))),\n",
       " ('Fare',\n",
       "  (tensor(-0.0040, grad_fn=<SelectBackward>),\n",
       "   tensor(0.0015, grad_fn=<SelectBackward>))),\n",
       " ('Alone',\n",
       "  (tensor(-0.0201, grad_fn=<SelectBackward>),\n",
       "   tensor(0.1457, grad_fn=<SelectBackward>))),\n",
       " ('Male',\n",
       "  (tensor(-2.8982, grad_fn=<SelectBackward>),\n",
       "   tensor(0.1094, grad_fn=<SelectBackward>))),\n",
       " ('Pclass_2',\n",
       "  (tensor(-0.8176, grad_fn=<SelectBackward>),\n",
       "   tensor(0.1668, grad_fn=<SelectBackward>))),\n",
       " ('Pclass_3',\n",
       "  (tensor(-2.7010, grad_fn=<SelectBackward>),\n",
       "   tensor(0.1336, grad_fn=<SelectBackward>))),\n",
       " ('Embarked_Q',\n",
       "  (tensor(0.3762, grad_fn=<SelectBackward>),\n",
       "   tensor(0.2017, grad_fn=<SelectBackward>))),\n",
       " ('Embarked_S',\n",
       "  (tensor(-0.5650, grad_fn=<SelectBackward>),\n",
       "   tensor(0.1543, grad_fn=<SelectBackward>)))]"
      ]
     },
     "execution_count": 38,
     "metadata": {},
     "output_type": "execute_result"
    }
   ],
   "source": [
    "# Lets see the confidence in the params\n",
    "list(zip( train_x.columns, zip(*pyro.get_param_store().values()) ))"
   ]
  },
  {
   "cell_type": "code",
   "execution_count": 39,
   "metadata": {},
   "outputs": [
    {
     "name": "stdout",
     "output_type": "stream",
     "text": [
      "Embarked_Q     0.13298329710960388\n",
      "Fare           0.08062943071126938\n",
      "Alone          0.07841573655605316\n",
      "Age            0.07646910101175308\n",
      "Embarked_S     0.00339952833019197\n",
      "Pclass_2       -0.03137413412332535\n",
      "Pclass_3       -0.290669322013855\n",
      "Male           -0.3178234398365021\n"
     ]
    }
   ],
   "source": [
    "print_coeff_importance(\n",
    "    list(pyro.get_param_store().values())[0].data.numpy(),\n",
    "    train_x.columns\n",
    ")"
   ]
  },
  {
   "cell_type": "markdown",
   "metadata": {},
   "source": [
    "# Bayesian Regression (MCMC - NUTS)"
   ]
  },
  {
   "cell_type": "code",
   "execution_count": 40,
   "metadata": {},
   "outputs": [],
   "source": [
    "def mcmc_model(x_data, y_data):\n",
    "    p = x_data.shape[1]\n",
    "    weights = pyro.sample('mcmc_weights', distributions.Normal(torch.zeros(p), torch.ones(p)))\n",
    "    bias = pyro.sample('mcmc_bias', distributions.Normal(torch.zeros(1), torch.ones(1)))\n",
    "    y_pred = pyro.sample(\n",
    "        'mcmc_y',\n",
    "        distributions.Bernoulli( (torch.sigmoid((weights*x_data)+bias).sum(-1)) ),\n",
    "        obs=y_data\n",
    "    )\n",
    "    return y_pred"
   ]
  },
  {
   "cell_type": "code",
   "execution_count": 41,
   "metadata": {},
   "outputs": [
    {
     "name": "stderr",
     "output_type": "stream",
     "text": [
      "Sample: 100%|██████████| 1300/1300 [01:04<00:00, 20.09it/s, step size=2.71e-01, acc. rate=0.965]"
     ]
    },
    {
     "name": "stdout",
     "output_type": "stream",
     "text": [
      "CPU times: user 2min 40s, sys: 1.24 s, total: 2min 41s\n",
      "Wall time: 1min 4s\n"
     ]
    },
    {
     "name": "stderr",
     "output_type": "stream",
     "text": [
      "\n"
     ]
    }
   ],
   "source": [
    "%%time\n",
    "\n",
    "nuts_kernel = NUTS(mcmc_model, adapt_step_size=True)\n",
    "mcmc_train = MCMC(nuts_kernel, num_samples=1000, warmup_steps=300).run(x_data, y_data)"
   ]
  },
  {
   "cell_type": "code",
   "execution_count": 42,
   "metadata": {},
   "outputs": [],
   "source": [
    "mcmc_weights = EmpiricalMarginal(mcmc_train, 'mcmc_weights')\n",
    "mcmc_bias = EmpiricalMarginal(mcmc_train, 'mcmc_bias')\n",
    "mcmc_y = EmpiricalMarginal(mcmc_train, 'mcmc_y')"
   ]
  },
  {
   "cell_type": "code",
   "execution_count": 43,
   "metadata": {
    "scrolled": false
   },
   "outputs": [
    {
     "name": "stdout",
     "output_type": "stream",
     "text": [
      "Accuracy: 0.7519640852974186\n"
     ]
    },
    {
     "data": {
      "image/png": "[encoded data removed]",
      "text/plain": [
       "<Figure size 842.4x595.44 with 2 Axes>"
      ]
     },
     "metadata": {},
     "output_type": "display_data"
    }
   ],
   "source": [
    "print_metrics(\n",
    "    true_labels=y_data.data.numpy(),\n",
    "    predictions= np.where(\n",
    "        torch.sigmoid(\n",
    "            (mcmc_weights.mean*x_data)+mcmc_bias.mean\n",
    "        ).sum(-1).data.numpy() >= 0.5,\n",
    "        1,\n",
    "        0\n",
    "    )\n",
    ")"
   ]
  },
  {
   "cell_type": "code",
   "execution_count": 44,
   "metadata": {
    "scrolled": true
   },
   "outputs": [
    {
     "name": "stdout",
     "output_type": "stream",
     "text": [
      "Pclass_2       0.5104401707649231\n",
      "Age            0.34454137086868286\n",
      "Embarked_Q     0.32189619541168213\n",
      "Fare           0.17225559055805206\n",
      "Alone          -0.24360378086566925\n",
      "Embarked_S     -0.2539411187171936\n",
      "Pclass_3       -0.3620283305644989\n",
      "Male           -0.4895598590373993\n"
     ]
    }
   ],
   "source": [
    "print_coeff_importance(mcmc_weights.mean.data.numpy(), train_x.columns)"
   ]
  },
  {
   "cell_type": "markdown",
   "metadata": {},
   "source": [
    "# Comparison\n",
    "\n",
    "\n",
    "## Metrics\n",
    "\n",
    "| Model| Accuracy | Training time|\n",
    "| ------------------- |:-------------------:|:------------:|\n",
    "| Logistic Regression |        80.47%       |  00:00:01    |\n",
    "| Bayesian SVI        |        81.03%       |  00:00:17    |\n",
    "| Bayesian NUTS       |        75,20%       |  00:01:04    |\n",
    "\n",
    "\n",
    "## Coefficients\n",
    "\n",
    "\n",
    "### Logistic Regression\n",
    "```\n",
    "Embarked_Q     0.3934716284275055\n",
    "Fare           0.24658718705177307\n",
    "Alone          0.245184525847435\n",
    "Age            0.23610979318618774\n",
    "Embarked_S     0.09920477867126465\n",
    "Pclass_2       -0.02755960449576378\n",
    "Pclass_3       -0.586469829082489\n",
    "Male           -0.6065284013748169\n",
    "```\n",
    "\n",
    "\n",
    "### Bayesian SVI\n",
    "```\n",
    "Embarked_Q     0.13298329710960388\n",
    "Fare           0.08062943071126938\n",
    "Alone          0.07841573655605316\n",
    "Age            0.07646910101175308\n",
    "Embarked_S     0.00339952833019197\n",
    "Pclass_2       -0.03137413412332535\n",
    "Pclass_3       -0.290669322013855\n",
    "Male           -0.3178234398365021\n",
    "```\n",
    "\n",
    "### Bayesian NUTS\n",
    "```\n",
    "Pclass_2       0.5104401707649231\n",
    "Age            0.34454137086868286\n",
    "Embarked_Q     0.32189619541168213\n",
    "Fare           0.17225559055805206\n",
    "Alone          -0.24360378086566925\n",
    "Embarked_S     -0.2539411187171936\n",
    "Pclass_3       -0.3620283305644989\n",
    "Male           -0.4895598590373993\n",
    "```\n",
    "\n",
    "The ranking on coefficients is the same in the logistic regression and the Bayesian SVI. Although the bayesian NUTS share some similarities.\n",
    "\n",
    "The Titanic wasn't a good place for 3rd class male travellers. Sorry, Di Caprio."
   ]
  },
  {
   "cell_type": "markdown",
   "metadata": {},
   "source": [
    "## Bibliography\n",
    "1. [Bayesian Regression - Introduction (Part 1)](http://pyro.ai/examples/bayesian_regression.html)\n",
    "* [Understanding Pyro’s Model and Guide: A Love Story](https://medium.com/paper-club/understanding-pyros-model-and-guide-a-love-story-7f3aa0603886)\n",
    "* [Question about separating model and guide function](https://forum.pyro.ai/t/question-about-separating-model-and-guide-function/86)\n",
    "* Papers\n",
    "  1. [Variational Inference: A Review for Statisticians](https://arxiv.org/pdf/1601.00670.pdf)\n",
    "  * [Markov Chain Monte Carlo and Variational Inference:Bridging the Gap](http://proceedings.mlr.press/v37/salimans15.pdf)\n",
    "  * [Logistic Regression Diagnostics](https://projecteuclid.org/download/pdf_1/euclid.aos/1176345513)\n",
    "  * [The No-U-Turn Sampler: Adaptively Setting Path Lengths in Hamiltonian Monte Carlo](https://arxiv.org/abs/1111.4246)\n",
    "  "
   ]
  }
 ],
 "metadata": {
  "kernelspec": {
   "display_name": "Python 3",
   "language": "python",
   "name": "python3"
  },
  "language_info": {
   "codemirror_mode": {
    "name": "ipython",
    "version": 3
   },
   "file_extension": ".py",
   "mimetype": "text/x-python",
   "name": "python",
   "nbconvert_exporter": "python",
   "pygments_lexer": "ipython3",
   "version": "3.5.2"
  }
 },
 "nbformat": 4,
 "nbformat_minor": 2
}
