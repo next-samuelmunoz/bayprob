{
 "cells": [
  {
   "cell_type": "markdown",
   "metadata": {},
   "source": [
    "## Roll the dice!\n",
    "\n",
    "\n",
    "This is an example of probabilistic programming with dices and bets."
   ]
  },
  {
   "cell_type": "code",
   "execution_count": 1,
   "metadata": {},
   "outputs": [],
   "source": [
    "import torch\n",
    "from torch.distributions import Multinomial\n",
    "import seaborn as sns"
   ]
  },
  {
   "cell_type": "code",
   "execution_count": 2,
   "metadata": {},
   "outputs": [],
   "source": [
    "sns.set(rc={'figure.figsize':(11.7,8.27)})  # Figure size"
   ]
  },
  {
   "cell_type": "code",
   "execution_count": 3,
   "metadata": {},
   "outputs": [],
   "source": [
    "def normalize(vector):\n",
    "    \"\"\"Return the vector so the sum is 1\n",
    "    \"\"\"\n",
    "    min_v = torch.min(vector)\n",
    "    range_v = torch.max(vector)-min_v\n",
    "    if range_v > 0:\n",
    "        retval = (vector - min_v) / range_v\n",
    "    else:\n",
    "        retval = torch.zeros(vector.size())\n",
    "    return retval"
   ]
  },
  {
   "cell_type": "markdown",
   "metadata": {},
   "source": [
    "## Model a dice\n",
    "Lets model a 6-faced dice or cube. Each face have the same probability of appearing when rolling the dice"
   ]
  },
  {
   "cell_type": "code",
   "execution_count": 4,
   "metadata": {},
   "outputs": [],
   "source": [
    "# Dice properties\n",
    "dice_faces = 6\n",
    "dice_probs = torch.ones(dice_faces)  # All faces have the same probability\n",
    "dice_faces_values = torch.arange(1,1+dice_faces, dtype=torch.float).reshape(dice_faces,1)  # Column Vector"
   ]
  },
  {
   "cell_type": "markdown",
   "metadata": {},
   "source": [
    "### Test the dice"
   ]
  },
  {
   "cell_type": "code",
   "execution_count": 5,
   "metadata": {},
   "outputs": [],
   "source": [
    "# Simulation parameters\n",
    "n_dices = 1\n",
    "n_rolls = 1000000  # Number of simulations to perform"
   ]
  },
  {
   "cell_type": "code",
   "execution_count": 6,
   "metadata": {},
   "outputs": [],
   "source": [
    "# Distribution\n",
    "roll_dist = Multinomial(n_dices, dice_probs)\n",
    "samples = roll_dist.sample(torch.tensor([n_rolls]))  # Face count \n",
    "values = samples.mm(dice_faces_values).squeeze(1)  # Sum of the dice aces"
   ]
  },
  {
   "cell_type": "code",
   "execution_count": 7,
   "metadata": {
    "scrolled": false
   },
   "outputs": [
    {
     "data": {
      "text/plain": [
       "<matplotlib.axes._subplots.AxesSubplot at 0x7fedd8d83518>"
      ]
     },
     "execution_count": 7,
     "metadata": {},
     "output_type": "execute_result"
    },
    {
     "data": {
      "image/png": "[encoded data removed]",
      "text/plain": [
       "<Figure size 842.4x595.44 with 1 Axes>"
      ]
     },
     "metadata": {},
     "output_type": "display_data"
    }
   ],
   "source": [
    "unique_values = sorted(values.unique().int().tolist())\n",
    "counts = torch.histc(values, bins=len(unique_values))\n",
    "sns.barplot(\n",
    "    x=unique_values,\n",
    "    y=counts.int()\n",
    ")"
   ]
  },
  {
   "cell_type": "code",
   "execution_count": 8,
   "metadata": {},
   "outputs": [
    {
     "name": "stdout",
     "output_type": "stream",
     "text": [
      "Value\t Probability\n",
      " 1\t 0.1663\n",
      " 2\t 0.1671\n",
      " 3\t 0.1664\n",
      " 4\t 0.1666\n",
      " 5\t 0.1668\n",
      " 6\t 0.1668\n"
     ]
    }
   ],
   "source": [
    "print(\"Value\\t Probability\")\n",
    "for value, prob in zip(unique_values, counts/(torch.sum(counts))):\n",
    "    print(\" {}\\t {:.4f}\".format(value, prob))"
   ]
  },
  {
   "cell_type": "markdown",
   "metadata": {},
   "source": [
    "When the number of simulations is big enough, we see all the faces have the same probability of appearing."
   ]
  },
  {
   "cell_type": "markdown",
   "metadata": {},
   "source": [
    "## A 2-dice problem\n",
    "\n",
    "We are going to roll 2 dices and sum the result of the faces. Which number should we bet?"
   ]
  },
  {
   "cell_type": "code",
   "execution_count": 9,
   "metadata": {
    "scrolled": false
   },
   "outputs": [
    {
     "data": {
      "text/plain": [
       "<matplotlib.axes._subplots.AxesSubplot at 0x7fedd9474ef0>"
      ]
     },
     "execution_count": 9,
     "metadata": {},
     "output_type": "execute_result"
    },
    {
     "data": {
      "image/png": "[encoded data removed]",
      "text/plain": [
       "<Figure size 842.4x595.44 with 1 Axes>"
      ]
     },
     "metadata": {},
     "output_type": "display_data"
    }
   ],
   "source": [
    "# Simulation parameters\n",
    "n_dices = 2\n",
    "n_rolls = 1000000  # Number of simulations to perform\n",
    "\n",
    "# Distribution\n",
    "roll_dist = Multinomial(n_dices, dice_probs)\n",
    "samples = roll_dist.sample(torch.tensor([n_rolls]))  # Face count \n",
    "values = samples.mm(dice_faces_values).squeeze(1)  # Sum of the dice aces\n",
    "\n",
    "unique_values = sorted(values.unique().int().tolist())\n",
    "counts = torch.histc(values, bins=len(unique_values))\n",
    "sns.barplot(\n",
    "    x=unique_values,\n",
    "    y=counts.int()\n",
    ")"
   ]
  },
  {
   "cell_type": "code",
   "execution_count": 10,
   "metadata": {
    "scrolled": true
   },
   "outputs": [
    {
     "name": "stdout",
     "output_type": "stream",
     "text": [
      "Value\t Probability\n",
      " 2\t 0.0277\n",
      " 3\t 0.0552\n",
      " 4\t 0.0831\n",
      " 5\t 0.1113\n",
      " 6\t 0.1393\n",
      " 7\t 0.1665\n",
      " 8\t 0.1392\n",
      " 9\t 0.1112\n",
      " 10\t 0.0832\n",
      " 11\t 0.0556\n",
      " 12\t 0.0276\n"
     ]
    }
   ],
   "source": [
    "print(\"Value\\t Probability\")\n",
    "for value, prob in zip(unique_values, counts/(torch.sum(counts))):\n",
    "    print(\" {}\\t {:.4f}\".format(value, prob))"
   ]
  },
  {
   "cell_type": "markdown",
   "metadata": {},
   "source": [
    "Our best choice would be to bet to the 7."
   ]
  },
  {
   "cell_type": "markdown",
   "metadata": {},
   "source": [
    "## Generalization"
   ]
  },
  {
   "cell_type": "markdown",
   "metadata": {},
   "source": [
    "We roll:\n",
    "* 3 6-faced dices\n",
    "* 2 12-faced dices\n",
    "* A 20-faced dice\n",
    "* A coin (head sums 1, tails sums 0), but 60% of times we get tails\n",
    "\n",
    "Which number should we bet?"
   ]
  },
  {
   "cell_type": "code",
   "execution_count": 11,
   "metadata": {},
   "outputs": [],
   "source": [
    "dices = {}\n",
    "\n",
    "for faces, n in [(6,3), (12,2), (20,1), (2,1)]:\n",
    "    dices[faces] = {\n",
    "        'probs': torch.ones(faces),\n",
    "        'face_values': torch.arange(1,1+faces, dtype=torch.float).reshape(faces,1),\n",
    "        'n': n,\n",
    "    }\n",
    "# Disbalanced Coin\n",
    "dices[2]['probs'] = torch.tensor([60.,40.])  # The coin is disbalanced\n",
    "dices[2]['face_values'] = torch.tensor([[0.], [1.]])"
   ]
  },
  {
   "cell_type": "code",
   "execution_count": 12,
   "metadata": {
    "scrolled": true
   },
   "outputs": [],
   "source": [
    "# Simulation parameters\n",
    "\n",
    "n_rolls = 10000000  # Number of simulations to perform\n",
    "\n",
    "dice_rolls = []\n",
    "\n",
    "# Probability Distributions\n",
    "for k,v in dices.items():\n",
    "    dist = Multinomial(v['n'], v['probs'])\n",
    "    samples = dist.sample(torch.tensor([n_rolls]))  # Face count \n",
    "    dice_rolls.append(samples.mm(v['face_values']).squeeze(1))  # Sum of the dice faces\n",
    "    \n",
    "values = torch.stack(dice_rolls).sum(dim=0)"
   ]
  },
  {
   "cell_type": "code",
   "execution_count": 13,
   "metadata": {
    "scrolled": false
   },
   "outputs": [
    {
     "data": {
      "text/plain": [
       "<matplotlib.axes._subplots.AxesSubplot at 0x7fedd6c30278>"
      ]
     },
     "execution_count": 13,
     "metadata": {},
     "output_type": "execute_result"
    },
    {
     "data": {
      "image/png": "[encoded data removed]",
      "text/plain": [
       "<Figure size 842.4x595.44 with 1 Axes>"
      ]
     },
     "metadata": {},
     "output_type": "display_data"
    }
   ],
   "source": [
    "unique_values = sorted(values.unique().int().tolist())\n",
    "counts = torch.histc(values, bins=len(unique_values))\n",
    "sns.barplot(\n",
    "    x=unique_values,\n",
    "    y=counts.int()\n",
    ")"
   ]
  },
  {
   "cell_type": "code",
   "execution_count": 14,
   "metadata": {
    "scrolled": false
   },
   "outputs": [
    {
     "name": "stdout",
     "output_type": "stream",
     "text": [
      "Value\t Probability (%)\n",
      " 6\t 0.00000070\n",
      " 7\t 0.00000610\n",
      " 8\t 0.00002660\n",
      " 9\t 0.00006580\n",
      " 10\t 0.00015360\n",
      " 11\t 0.00031380\n",
      " 12\t 0.00060560\n",
      " 13\t 0.00105390\n",
      " 14\t 0.00168980\n",
      " 15\t 0.00257770\n",
      " 16\t 0.00369520\n",
      " 17\t 0.00515880\n",
      " 18\t 0.00698410\n",
      " 19\t 0.00908870\n",
      " 20\t 0.01145390\n",
      " 21\t 0.01419740\n",
      " 22\t 0.01721220\n",
      " 23\t 0.02041030\n",
      " 24\t 0.02367670\n",
      " 25\t 0.02702060\n",
      " 26\t 0.03029110\n",
      " 27\t 0.03331120\n",
      " 28\t 0.03641520\n",
      " 29\t 0.03894180\n",
      " 30\t 0.04119870\n",
      " 31\t 0.04309910\n",
      " 32\t 0.04462860\n",
      " 33\t 0.04553340\n",
      " 34\t 0.04597870\n",
      " 35\t 0.04599080\n",
      " 36\t 0.04532280\n",
      " 37\t 0.04433760\n",
      " 38\t 0.04277730\n",
      " 39\t 0.04068380\n",
      " 40\t 0.03836670\n",
      " 41\t 0.03580270\n",
      " 42\t 0.03279360\n",
      " 43\t 0.02956740\n",
      " 44\t 0.02626680\n",
      " 45\t 0.02297200\n",
      " 46\t 0.01970610\n",
      " 47\t 0.01662030\n",
      " 48\t 0.01364990\n",
      " 49\t 0.01094760\n",
      " 50\t 0.00869230\n",
      " 51\t 0.00653380\n",
      " 52\t 0.00485550\n",
      " 53\t 0.00344840\n",
      " 54\t 0.00236420\n",
      " 55\t 0.00154210\n",
      " 56\t 0.00094220\n",
      " 57\t 0.00052370\n",
      " 58\t 0.00028350\n",
      " 59\t 0.00013760\n",
      " 60\t 0.00005630\n",
      " 61\t 0.00001930\n",
      " 62\t 0.00000600\n",
      " 63\t 0.00000040\n"
     ]
    }
   ],
   "source": [
    "print(\"Value\\t Probability (%)\")\n",
    "for value, prob in sorted(zip(unique_values, counts/(torch.sum(counts)))):\n",
    "    print(\" {}\\t {:.8f}\".format(value, prob))"
   ]
  },
  {
   "cell_type": "markdown",
   "metadata": {},
   "source": [
    "The less possible value is 6 and the maximum is 63 ($3*6 + 2*12 + 20 + 1$).\n"
   ]
  },
  {
   "cell_type": "code",
   "execution_count": 15,
   "metadata": {},
   "outputs": [
    {
     "name": "stdout",
     "output_type": "stream",
     "text": [
      "Ranking\n",
      "Value\t Probability (%)\n",
      " 35\t 0.04599080\n",
      " 34\t 0.04597870\n",
      " 33\t 0.04553340\n",
      " 36\t 0.04532280\n",
      " 32\t 0.04462860\n",
      " 37\t 0.04433760\n",
      " 31\t 0.04309910\n",
      " 38\t 0.04277730\n",
      " 30\t 0.04119870\n",
      " 39\t 0.04068380\n",
      " 29\t 0.03894180\n",
      " 40\t 0.03836670\n",
      " 28\t 0.03641520\n",
      " 41\t 0.03580270\n",
      " 27\t 0.03331120\n",
      " 42\t 0.03279360\n",
      " 26\t 0.03029110\n",
      " 43\t 0.02956740\n",
      " 25\t 0.02702060\n",
      " 44\t 0.02626680\n",
      " 24\t 0.02367670\n",
      " 45\t 0.02297200\n",
      " 23\t 0.02041030\n",
      " 46\t 0.01970610\n",
      " 22\t 0.01721220\n",
      " 47\t 0.01662030\n",
      " 21\t 0.01419740\n",
      " 48\t 0.01364990\n",
      " 20\t 0.01145390\n",
      " 49\t 0.01094760\n",
      " 19\t 0.00908870\n",
      " 50\t 0.00869230\n",
      " 18\t 0.00698410\n",
      " 51\t 0.00653380\n",
      " 17\t 0.00515880\n",
      " 52\t 0.00485550\n",
      " 16\t 0.00369520\n",
      " 53\t 0.00344840\n",
      " 15\t 0.00257770\n",
      " 54\t 0.00236420\n",
      " 14\t 0.00168980\n",
      " 55\t 0.00154210\n",
      " 13\t 0.00105390\n",
      " 56\t 0.00094220\n",
      " 12\t 0.00060560\n",
      " 57\t 0.00052370\n",
      " 11\t 0.00031380\n",
      " 58\t 0.00028350\n",
      " 10\t 0.00015360\n",
      " 59\t 0.00013760\n",
      " 9\t 0.00006580\n",
      " 60\t 0.00005630\n",
      " 8\t 0.00002660\n",
      " 61\t 0.00001930\n",
      " 7\t 0.00000610\n",
      " 62\t 0.00000600\n",
      " 6\t 0.00000070\n",
      " 63\t 0.00000040\n"
     ]
    }
   ],
   "source": [
    "print(\"Ranking\")\n",
    "print(\"Value\\t Probability (%)\")\n",
    "for value, prob in sorted(\n",
    "        zip(unique_values, counts/(torch.sum(counts))),\n",
    "        key=lambda x: x[1],\n",
    "        reverse=True\n",
    "    ):\n",
    "    print(\" {}\\t {:.8f}\".format(value, prob))"
   ]
  }
 ],
 "metadata": {
  "kernelspec": {
   "display_name": "Python 3",
   "language": "python",
   "name": "python3"
  },
  "language_info": {
   "codemirror_mode": {
    "name": "ipython",
    "version": 3
   },
   "file_extension": ".py",
   "mimetype": "text/x-python",
   "name": "python",
   "nbconvert_exporter": "python",
   "pygments_lexer": "ipython3",
   "version": "3.5.2"
  }
 },
 "nbformat": 4,
 "nbformat_minor": 2
}
